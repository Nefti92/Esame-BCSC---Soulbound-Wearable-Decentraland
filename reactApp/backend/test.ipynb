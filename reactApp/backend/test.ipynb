{
 "cells": [
  {
   "cell_type": "code",
   "execution_count": null,
   "id": "dba2eafd",
   "metadata": {},
   "outputs": [],
   "source": [
    "from PIL import Image\n",
    "\n",
    "def crop_centered_box(image_path, output_path, crop_width, crop_height, offset_width, offset_height):\n",
    "    # Carica immagine\n",
    "    image = Image.open(image_path)\n",
    "    width, height = image.size\n",
    "\n",
    "    # Calcola coordinate del ritaglio centrato\n",
    "    left = (width - 95) // 2 - 9\n",
    "    top = (height - 140) // 2 + 10\n",
    "    right = left + 95\n",
    "    bottom = top + 140\n",
    "\n",
    "    # Esegui ritaglio\n",
    "    cropped = image.crop((left, top, right, bottom))\n",
    "    cropped.save(output_path)\n",
    "    print(f\"Ritaglio salvato in: {output_path}\")"
   ]
  },
  {
   "cell_type": "code",
   "execution_count": null,
   "id": "6361bfef",
   "metadata": {},
   "outputs": [
    {
     "name": "stdout",
     "output_type": "stream",
     "text": [
      "Ritaglio salvato in: temporary_files/photo_cropped.png\n"
     ]
    }
   ],
   "source": [
    "crop_centered_box(\n",
    "    image_path=\"temporary_files/photo.png\",\n",
    "    output_path=\"temporary_files/photo_cropped.png\",\n",
    "    crop_width=95,  # <--- Inserisci qui le dimensioni precise del rettangolo\n",
    "    crop_height=140,\n",
    "    offset_width=-9,\n",
    "    offset_height=10)"
   ]
  }
 ],
 "metadata": {
  "kernelspec": {
   "display_name": "Python 3",
   "language": "python",
   "name": "python3"
  },
  "language_info": {
   "codemirror_mode": {
    "name": "ipython",
    "version": 3
   },
   "file_extension": ".py",
   "mimetype": "text/x-python",
   "name": "python",
   "nbconvert_exporter": "python",
   "pygments_lexer": "ipython3",
   "version": "3.11.1"
  }
 },
 "nbformat": 4,
 "nbformat_minor": 5
}
